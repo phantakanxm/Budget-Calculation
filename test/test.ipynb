{
 "cells": [
  {
   "cell_type": "code",
   "execution_count": 10,
   "metadata": {},
   "outputs": [],
   "source": [
    "from openpyxl import load_workbook\n",
    "\n",
    "workbook = load_workbook('คุมงปม.รายเดือน ( 13 เม.ย.63).xlsx')"
   ]
  },
  {
   "cell_type": "code",
   "execution_count": 11,
   "metadata": {},
   "outputs": [],
   "source": [
    "worksheet = workbook['รักษาพยาบาลเบื้องต้น']"
   ]
  },
  {
   "cell_type": "code",
   "execution_count": 12,
   "metadata": {},
   "outputs": [
    {
     "name": "stdout",
     "output_type": "stream",
     "text": [
      "สรุปรายการเบิกเงิน รายวิชา 501362  การรักษาพยาบาลเบื้องต้น\n"
     ]
    }
   ],
   "source": [
    "print(worksheet['A1'].value)"
   ]
  },
  {
   "cell_type": "code",
   "execution_count": 19,
   "metadata": {},
   "outputs": [],
   "source": [
    "def input_value(row,value):\n",
    "    num = 7\n",
    "    while(True):\n",
    "        if(worksheet['A'+str(num)] != None):\n",
    "            print(num)\n",
    "            break;\n",
    "        else:\n",
    "            num +=1\n",
    "    worksheet[row].value = value"
   ]
  },
  {
   "cell_type": "code",
   "execution_count": 29,
   "metadata": {},
   "outputs": [
    {
     "name": "stdout",
     "output_type": "stream",
     "text": [
      "100\n",
      "50\n"
     ]
    }
   ],
   "source": [
    "print(worksheet['E7'].value)\n",
    "print(worksheet['F7'].value)"
   ]
  },
  {
   "cell_type": "code",
   "execution_count": null,
   "metadata": {},
   "outputs": [],
   "source": [
    "ascii = 'ABCDEFGHIJKLMNOPQRSTUVWXYZ'\n",
    "print(ascii[0])"
   ]
  }
 ],
 "metadata": {
  "kernelspec": {
   "display_name": "Python 3",
   "language": "python",
   "name": "python3"
  },
  "language_info": {
   "codemirror_mode": {
    "name": "ipython",
    "version": 3
   },
   "file_extension": ".py",
   "mimetype": "text/x-python",
   "name": "python",
   "nbconvert_exporter": "python",
   "pygments_lexer": "ipython3",
   "version": "3.12.0"
  }
 },
 "nbformat": 4,
 "nbformat_minor": 2
}
